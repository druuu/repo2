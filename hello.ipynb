{
 "cells": [
  {
   "cell_type": "markdown",
   "metadata": {},
   "source": [
    "# sprint 26-11-2018 to 07-12-2018"
   ]
  },
  {
   "cell_type": "markdown",
   "metadata": {},
   "source": [
    "## projects\n",
    "\n",
    "1. filtered\n",
    "2. core refactored\n",
    "3. jupyter-cloud\n",
    "4. colaberry labs\n",
    "5. dsin100days\n",
    "6. colaberry app"
   ]
  },
  {
   "cell_type": "markdown",
   "metadata": {},
   "source": [
    "# nikila"
   ]
  },
  {
   "cell_type": "markdown",
   "metadata": {},
   "source": [
    "### core refactored\n",
    "1. daily reports on analytics (email to refactored team) - 3"
   ]
  },
  {
   "cell_type": "markdown",
   "metadata": {},
   "source": [
    "### dsin100days\n",
    "\n",
    "1. always show static html before notebook page"
   ]
  },
  {
   "cell_type": "code",
   "execution_count": null,
   "metadata": {},
   "outputs": [],
   "source": []
  },
  {
   "cell_type": "markdown",
   "metadata": {},
   "source": [
    "# dinesh"
   ]
  },
  {
   "cell_type": "markdown",
   "metadata": {},
   "source": [
    "### filtered\n",
    "\n",
    "1. killing script - 1\n",
    "2. testing - 1"
   ]
  },
  {
   "cell_type": "markdown",
   "metadata": {},
   "source": [
    "### jupyter-cloud\n",
    "\n",
    "1. markdown cells real time changes and multiple room support - 3\n",
    "3. daily reports on analytics (email to refactored team) - 1"
   ]
  },
  {
   "cell_type": "markdown",
   "metadata": {},
   "source": [
    "### colaberry labs"
   ]
  },
  {
   "cell_type": "markdown",
   "metadata": {},
   "source": [
    "### colaberry app\n",
    "\n",
    "1. integrate iframes - 3"
   ]
  }
 ],
 "metadata": {
  "kernelspec": {
   "display_name": "Python 3",
   "language": "python",
   "name": "python3"
  },
  "language_info": {
   "codemirror_mode": {
    "name": "ipython",
    "version": 3
   },
   "file_extension": ".py",
   "mimetype": "text/x-python",
   "name": "python",
   "nbconvert_exporter": "python",
   "pygments_lexer": "ipython3",
   "version": "3.5.2"
  }
 },
 "nbformat": 4,
 "nbformat_minor": 2
}
